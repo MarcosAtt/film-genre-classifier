{
 "cells": [
  {
   "cell_type": "code",
   "execution_count": 1,
   "id": "cceac51c-b65e-4312-9e77-2a1cf11f9a48",
   "metadata": {
    "execution": {
     "iopub.execute_input": "2024-10-16T00:33:48.866757Z",
     "iopub.status.busy": "2024-10-16T00:33:48.866499Z",
     "iopub.status.idle": "2024-10-16T00:33:50.018533Z",
     "shell.execute_reply": "2024-10-16T00:33:50.017891Z",
     "shell.execute_reply.started": "2024-10-16T00:33:48.866736Z"
    }
   },
   "outputs": [],
   "source": [
    "import pandas as pd\n",
    "import numpy as np\n",
    "import sys\n",
    "sys.path.append(\"/home/marcos/computacion/metodos_numericos_2c_2024/film-genre-classifier/film-classifier/\")\n",
    "from knn import *\n",
    "from variables import *\n",
    "from data_preprocessing import *\n",
    "from cross_validation import *\n",
    "import matplotlib.pyplot as plt\n"
   ]
  },
  {
   "cell_type": "markdown",
   "id": "e9880f3e-d9e7-4950-941a-ba23b5ba0be0",
   "metadata": {},
   "source": [
    "# 3.a\n",
    "k = 5\n",
    "\n",
    "80/20 train/test"
   ]
  },
  {
   "cell_type": "code",
   "execution_count": 38,
   "id": "49181740-47c7-41b4-bfd4-433d0a999675",
   "metadata": {
    "execution": {
     "iopub.execute_input": "2024-10-16T00:37:38.363500Z",
     "iopub.status.busy": "2024-10-16T00:37:38.362922Z",
     "iopub.status.idle": "2024-10-16T00:37:38.561739Z",
     "shell.execute_reply": "2024-10-16T00:37:38.560518Z",
     "shell.execute_reply.started": "2024-10-16T00:37:38.363467Z"
    }
   },
   "outputs": [
    {
     "name": "stdout",
     "output_type": "stream",
     "text": [
      "Resultados Experimento 2:\n",
      "Con k: 300, exactitud obtenida: 0.35\n"
     ]
    }
   ],
   "source": [
    "K = 300\n",
    "Q = 5000\n",
    "X_train, y_train, X_test, y_test = document_term_matrix(import_data(), Q)\n",
    "X_train = normalize_data(X_train)\n",
    "X_test = normalize_data(X_test)\n",
    "vecinos = calcular_vecinos(X_train, X_test)\n",
    "\n",
    "promedio_k_fijo = medir_exactitud(vecinos, y_train, y_test, K)\n",
    "\n",
    "print(\"Resultados Experimento 2:\")\n",
    "print(\"Con k: \", K, \", exactitud obtenida: \", promedio_k_fijo, sep = '')"
   ]
  },
  {
   "cell_type": "code",
   "execution_count": 55,
   "id": "1f9b3d37-fec0-4f10-bed4-067d144c2781",
   "metadata": {
    "execution": {
     "iopub.execute_input": "2024-10-16T00:41:14.440580Z",
     "iopub.status.busy": "2024-10-16T00:41:14.439761Z",
     "iopub.status.idle": "2024-10-16T00:41:14.601767Z",
     "shell.execute_reply": "2024-10-16T00:41:14.598200Z",
     "shell.execute_reply.started": "2024-10-16T00:41:14.440537Z"
    }
   },
   "outputs": [
    {
     "name": "stdout",
     "output_type": "stream",
     "text": [
      "Resultados Experimento 2:\n",
      "Con k: 4, exactitud obtenida: 0.0\n"
     ]
    }
   ],
   "source": [
    "K = 4\n",
    "Q = 1000\n",
    "X_train, y_train, X_test, y_test = document_term_matrix(import_data(), Q)\n",
    "X_newtrain, X_dev, y_newtrain, y_dev = separate_dev_data(X_train, y_train, 0)\n",
    "\n",
    "X_train = normalize_data(X_newtrain)\n",
    "X_test = normalize_data(X_dev)\n",
    "vecinos = calcular_vecinos(X_train, X_test)\n",
    "\n",
    "promedio_k_fijo = medir_exactitud(vecinos, y_train, y_test, K)\n",
    "# promedio_k_fijo = medir_exactitud(vecinos, y_newtrain, y_dev, K) # DEBERIA SER ESTO PERO ESTA FALLANDO TODO: ARREGLAR ESTO\n",
    "\n",
    "print(\"Resultados Experimento 2:\")\n",
    "print(\"Con k: \", K, \", exactitud obtenida: \", promedio_k_fijo, sep = '')"
   ]
  },
  {
   "cell_type": "markdown",
   "id": "b7366f59-cc95-43e9-8941-994e250b92e7",
   "metadata": {},
   "source": [
    "# 3.b\n",
    "k exploration"
   ]
  },
  {
   "cell_type": "code",
   "execution_count": 24,
   "id": "d25c64fa-dfc3-434b-9f2e-7fab6694f480",
   "metadata": {
    "execution": {
     "iopub.execute_input": "2024-10-16T00:35:00.600169Z",
     "iopub.status.busy": "2024-10-16T00:35:00.598938Z",
     "iopub.status.idle": "2024-10-16T00:35:01.798841Z",
     "shell.execute_reply": "2024-10-16T00:35:01.798259Z",
     "shell.execute_reply.started": "2024-10-16T00:35:00.600089Z"
    }
   },
   "outputs": [
    {
     "name": "stderr",
     "output_type": "stream",
     "text": [
      "/home/marcos/computacion/metodos_numericos_2c_2024/film-genre-classifier/film-classifier/knn.py:42: RuntimeWarning: divide by zero encountered in divide\n",
      "  train_normas = np.diag(1 / np.linalg.norm(data, axis=1))\n",
      "/home/marcos/computacion/metodos_numericos_2c_2024/film-genre-classifier/film-classifier/knn.py:43: RuntimeWarning: invalid value encountered in matmul\n",
      "  train_normalized = train_normas @ data\n"
     ]
    }
   ],
   "source": [
    "k_maximo = 5\n",
    "Q = 100\n",
    "X_train, y_train, X_test, y_test = document_term_matrix(import_data(), Q)\n",
    "promedio_aciertos_k = four_fold_cross_validation_k_exploration(X_train, y_train, k_maximo)"
   ]
  },
  {
   "cell_type": "code",
   "execution_count": 23,
   "id": "e8e212d0-a83e-4a9d-ae6c-e9ae9f151d5d",
   "metadata": {
    "execution": {
     "iopub.execute_input": "2024-10-16T00:34:50.655803Z",
     "iopub.status.busy": "2024-10-16T00:34:50.655405Z",
     "iopub.status.idle": "2024-10-16T00:34:50.914422Z",
     "shell.execute_reply": "2024-10-16T00:34:50.913534Z",
     "shell.execute_reply.started": "2024-10-16T00:34:50.655772Z"
    }
   },
   "outputs": [
    {
     "data": {
      "image/png": "[encoded data removed]",
      "text/plain": [
       "<Figure size 640x480 with 1 Axes>"
      ]
     },
     "metadata": {},
     "output_type": "display_data"
    }
   ],
   "source": [
    "f, ax = plt.subplots(1)\n",
    "ax.plot(promedio_aciertos_k[1:])\n",
    "plt.title(\"Exploracion hiperparametro K\")\n",
    "ax.set_xlabel(\"# vecinos\")\n",
    "ax.set_ylabel(\"% exactitud\")\n",
    "f.savefig('../results/figures/exploracion_param_k.png', bbox_inches='tight')\n"
   ]
  },
  {
   "cell_type": "raw",
   "id": "1ff919e8-b85f-4d8d-ab5c-65c0602ab516",
   "metadata": {
    "execution": {
     "iopub.execute_input": "2024-10-16T00:23:24.155690Z",
     "iopub.status.busy": "2024-10-16T00:23:24.155430Z",
     "iopub.status.idle": "2024-10-16T00:23:24.161191Z",
     "shell.execute_reply": "2024-10-16T00:23:24.160261Z",
     "shell.execute_reply.started": "2024-10-16T00:23:24.155667Z"
    }
   },
   "source": [
    "def separate_dev_data(X_train, y_train, i):\n",
    "    part = X_train.shape[0] // 4  # Partition size\n",
    "    print(\"dev desde: \", part*i, \"   hasta: \", part * (i+1))\n",
    "    X_dev = X_train[part * i : part * (i + 1)]\n",
    "    y_dev = y_train[part * i : part * (i + 1)]\n",
    "    print(y_train[part * i])\n",
    "    print(y_dev)\n",
    "\n",
    "    print(\"train desde: \", part * (i + 1))\n",
    "    X_newtrain = np.concatenate((X_train[0 : part * i], X_train[part * (i + 1) : :]))\n",
    "    y_newtrain = np.concatenate((y_train[0 : part * i], y_train[part * (i + 1) : :]))\n",
    "    return X_newtrain, X_dev, y_newtrain, y_dev"
   ]
  },
  {
   "cell_type": "raw",
   "id": "99d1a422-73bb-41d7-a5c6-198add463118",
   "metadata": {
    "execution": {
     "iopub.execute_input": "2024-10-16T00:23:24.163986Z",
     "iopub.status.busy": "2024-10-16T00:23:24.163507Z",
     "iopub.status.idle": "2024-10-16T00:23:24.314246Z",
     "shell.execute_reply": "2024-10-16T00:23:24.313649Z",
     "shell.execute_reply.started": "2024-10-16T00:23:24.163957Z"
    }
   },
   "source": [
    "def four_fold_cross_validation_k_exploration(X_train, y_train, maxK):\n",
    "    \"\"\"\n",
    "    Knn para el rango 1,maxK. Devuelve promedios de hacer 4-fold cross-validation\n",
    "    \"\"\"\n",
    "    promedio_aciertos_k = np.zeros(maxK)\n",
    "    for i in range(4):  # FOLD\n",
    "        X_newtrain, X_dev, y_newtrain, y_dev = separate_dev_data(X_train, y_train, i)\n",
    "\n",
    "        X_newtrain_normalized = normalize_data(X_newtrain)\n",
    "        X_dev_normalized = normalize_data(X_dev)\n",
    "\n",
    "        vecinos = calcular_vecinos(X_newtrain_normalized, X_dev_normalized)\n",
    "        print(X_dev.shape)\n",
    "        for k in range(1, maxK):\n",
    "            print_avance(i, k, 4, maxK + 1)\n",
    "            promedio_aciertos_k[k] += medir_exactitud(vecinos, y_newtrain, y_dev, k)\n",
    "\n",
    "    for k in range(1, maxK):\n",
    "        promedio_aciertos_k[k] /= 4\n",
    "\n",
    "    return promedio_aciertos_k"
   ]
  },
  {
   "cell_type": "code",
   "execution_count": 5,
   "id": "046cbb05-aa45-43d4-abfa-faadcf981b70",
   "metadata": {
    "execution": {
     "iopub.execute_input": "2024-10-16T00:33:50.939242Z",
     "iopub.status.busy": "2024-10-16T00:33:50.938821Z",
     "iopub.status.idle": "2024-10-16T00:33:51.393383Z",
     "shell.execute_reply": "2024-10-16T00:33:51.392850Z",
     "shell.execute_reply.started": "2024-10-16T00:33:50.939208Z"
    }
   },
   "outputs": [],
   "source": [
    "X_train, y_train, X_test, y_test = document_term_matrix(import_data(), Q)\n",
    "promedio_aciertos_k = four_fold_cross_validation_k_exploration(X_train, y_train, 6)"
   ]
  },
  {
   "cell_type": "code",
   "execution_count": 6,
   "id": "0a9ac30b-13b1-45ba-b2c0-4d9e086c463c",
   "metadata": {
    "execution": {
     "iopub.execute_input": "2024-10-16T00:33:51.395499Z",
     "iopub.status.busy": "2024-10-16T00:33:51.395199Z",
     "iopub.status.idle": "2024-10-16T00:33:51.400816Z",
     "shell.execute_reply": "2024-10-16T00:33:51.400100Z",
     "shell.execute_reply.started": "2024-10-16T00:33:51.395473Z"
    }
   },
   "outputs": [
    {
     "name": "stdout",
     "output_type": "stream",
     "text": [
      "[0. 0. 0. 0. 0. 0.]\n"
     ]
    }
   ],
   "source": [
    "print(promedio_aciertos_k)"
   ]
  },
  {
   "cell_type": "code",
   "execution_count": 7,
   "id": "912fc0a7-9e64-4a1f-8ac5-ac0dd1fb4e21",
   "metadata": {
    "execution": {
     "iopub.execute_input": "2024-10-16T00:33:51.408328Z",
     "iopub.status.busy": "2024-10-16T00:33:51.401649Z",
     "iopub.status.idle": "2024-10-16T00:33:51.661554Z",
     "shell.execute_reply": "2024-10-16T00:33:51.660649Z",
     "shell.execute_reply.started": "2024-10-16T00:33:51.408278Z"
    }
   },
   "outputs": [
    {
     "name": "stdout",
     "output_type": "stream",
     "text": [
      "X_train:  (320, 5500)\n",
      "y_train:  (320, 1)\n",
      "\n",
      "X_newtrain:  (240, 5500)\n",
      "X_dev:       (80, 5500)\n",
      "y_newtrain:  (240, 1)\n",
      "y_dev:       (80, 1)\n"
     ]
    }
   ],
   "source": [
    "print(\"X_train: \", X_train.shape)\n",
    "print(\"y_train: \", y_train.shape)\n",
    "\n",
    "X_train, y_train, X_test, y_test = document_term_matrix(import_data(), Q)\n",
    "X_newtrain, X_dev, y_newtrain, y_dev = separate_dev_data(X_train, y_train, 3)\n",
    "print()\n",
    "print(\"X_newtrain: \", X_newtrain.shape)\n",
    "print(\"X_dev:      \", X_dev.shape)\n",
    "print(\"y_newtrain: \", y_newtrain.shape)\n",
    "print(\"y_dev:      \", y_dev.shape)"
   ]
  },
  {
   "cell_type": "code",
   "execution_count": 8,
   "id": "8ea082fd-8151-4744-806d-81bf048d051b",
   "metadata": {
    "execution": {
     "iopub.execute_input": "2024-10-16T00:33:51.663100Z",
     "iopub.status.busy": "2024-10-16T00:33:51.662746Z",
     "iopub.status.idle": "2024-10-16T00:33:51.668380Z",
     "shell.execute_reply": "2024-10-16T00:33:51.667530Z",
     "shell.execute_reply.started": "2024-10-16T00:33:51.663071Z"
    }
   },
   "outputs": [
    {
     "name": "stdout",
     "output_type": "stream",
     "text": [
      "0\n",
      "1\n",
      "2\n",
      "3\n"
     ]
    }
   ],
   "source": [
    "for i in range(4):\n",
    "    print(i)"
   ]
  }
 ],
 "metadata": {
  "kernelspec": {
   "display_name": "envtp2",
   "language": "python",
   "name": "envtp2"
  },
  "language_info": {
   "codemirror_mode": {
    "name": "ipython",
    "version": 3
   },
   "file_extension": ".py",
   "mimetype": "text/x-python",
   "name": "python",
   "nbconvert_exporter": "python",
   "pygments_lexer": "ipython3",
   "version": "3.12.7"
  }
 },
 "nbformat": 4,
 "nbformat_minor": 5
}
