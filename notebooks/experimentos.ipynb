{
 "cells": [
  {
   "cell_type": "markdown",
   "id": "a74b161e-e826-4131-bb03-a7883b205c9c",
   "metadata": {},
   "source": [
    "# Imports"
   ]
  },
  {
   "cell_type": "code",
   "execution_count": 19,
   "id": "6e36b64d-f3d3-4d06-998f-b18cb6f220f1",
   "metadata": {
    "execution": {
     "iopub.execute_input": "2024-10-21T12:46:47.634231Z",
     "iopub.status.busy": "2024-10-21T12:46:47.633916Z",
     "iopub.status.idle": "2024-10-21T12:46:47.660124Z",
     "shell.execute_reply": "2024-10-21T12:46:47.658246Z",
     "shell.execute_reply.started": "2024-10-21T12:46:47.634206Z"
    }
   },
   "outputs": [
    {
     "name": "stdout",
     "output_type": "stream",
     "text": [
      "The autoreload extension is already loaded. To reload it, use:\n",
      "  %reload_ext autoreload\n"
     ]
    }
   ],
   "source": [
    "%load_ext autoreload\n",
    "%autoreload 2"
   ]
  },
  {
   "cell_type": "code",
   "execution_count": 20,
   "id": "cceac51c-b65e-4312-9e77-2a1cf11f9a48",
   "metadata": {
    "execution": {
     "iopub.execute_input": "2024-10-21T12:46:48.330586Z",
     "iopub.status.busy": "2024-10-21T12:46:48.330199Z",
     "iopub.status.idle": "2024-10-21T12:46:48.367568Z",
     "shell.execute_reply": "2024-10-21T12:46:48.365579Z",
     "shell.execute_reply.started": "2024-10-21T12:46:48.330551Z"
    }
   },
   "outputs": [],
   "source": [
    "import pandas as pd\n",
    "import numpy as np\n",
    "import sys\n",
    "sys.path.append(\"/home/marcos/computacion/metodos_numericos_2c_2024/film-genre-classifier/film-classifier/\")\n",
    "from classifier import *"
   ]
  },
  {
   "cell_type": "markdown",
   "id": "e9880f3e-d9e7-4950-941a-ba23b5ba0be0",
   "metadata": {},
   "source": [
    "# 3.a KNN test\n",
    "k = 5\n",
    "## TODO: PROBAR Q = 500, 1000, 5000\n",
    "80/20 train/test"
   ]
  },
  {
   "cell_type": "code",
   "execution_count": 6,
   "id": "49181740-47c7-41b4-bfd4-433d0a999675",
   "metadata": {
    "execution": {
     "iopub.execute_input": "2024-10-19T22:51:20.948778Z",
     "iopub.status.busy": "2024-10-19T22:51:20.948288Z",
     "iopub.status.idle": "2024-10-19T22:51:21.156024Z",
     "shell.execute_reply": "2024-10-19T22:51:21.155145Z",
     "shell.execute_reply.started": "2024-10-19T22:51:20.948734Z"
    }
   },
   "outputs": [
    {
     "name": "stdout",
     "output_type": "stream",
     "text": [
      "(320, 1)\n",
      "(80, 1)\n",
      "(80, 320)\n",
      "Resultados Experimento 2:\n",
      "Con k: 40, exactitud obtenida: 0.8125\n"
     ]
    }
   ],
   "source": [
    "K = 40\n",
    "Q = 1000\n",
    "\n",
    "df_train, df_test = separate_test_data(import_data())\n",
    "X_train, y_train = document_term_matrix(df_train, Q)\n",
    "X_test, y_test = test_document_term_matrix(df_test, df_train, Q)\n",
    "print(y_train.shape)\n",
    "print(y_test.shape)\n",
    "X_train = normalize_data(X_train)\n",
    "X_test = normalize_data(X_test)\n",
    "vecinos = calcular_vecinos(X_train, X_test)\n",
    "\n",
    "promedio_k_fijo = medir_exactitud(vecinos, y_train, y_test, K)\n",
    "\n",
    "print(\"Resultados Experimento 2:\")\n",
    "print(\"Con k: \", K, \", exactitud obtenida: \", promedio_k_fijo, sep = '')"
   ]
  },
  {
   "cell_type": "markdown",
   "id": "b7366f59-cc95-43e9-8941-994e250b92e7",
   "metadata": {},
   "source": [
    "# 3.b K exploration\n"
   ]
  },
  {
   "cell_type": "code",
   "execution_count": null,
   "id": "d25c64fa-dfc3-434b-9f2e-7fab6694f480",
   "metadata": {},
   "outputs": [],
   "source": [
    "k_maximo = 250\n",
    "Q = 1000\n",
    "\n",
    "df_train, df_test = separate_test_data(import_data())\n",
    "X_train, y_train = document_term_matrix(df_train, Q)\n",
    "X_train, y_train = balancear_clases(X_train, y_train)\n",
    "\n",
    "X_test, y_test = test_document_term_matrix(df_test, df_train, Q)\n",
    "\n",
    "promedio_aciertos_k = four_fold_cross_validation_k_exploration(X_train, y_train, k_maximo)"
   ]
  },
  {
   "cell_type": "code",
   "execution_count": null,
   "id": "e8e212d0-a83e-4a9d-ae6c-e9ae9f151d5d",
   "metadata": {},
   "outputs": [],
   "source": [
    "f, ax = plt.subplots(1)\n",
    "ax.plot(promedio_aciertos_k[1:])\n",
    "plt.title(\"Exploracion hiperparametro K\")\n",
    "ax.set_xlabel(\"# vecinos\")\n",
    "ax.set_ylabel(\"% exactitud\")\n",
    "f.savefig('../results/figures/exploracion_param_k.png', bbox_inches='tight')\n"
   ]
  },
  {
   "cell_type": "code",
   "execution_count": null,
   "id": "3bc420ad-0d17-415c-a20d-3ad5798111ff",
   "metadata": {},
   "outputs": [],
   "source": [
    "# ZOOM primeros 30 elementos, mostrar max\n",
    "mejor_k = np.argmax(promedio_aciertos_k)\n",
    "exac_mejor_k = promedio_aciertos_k[mejor_k]\n",
    "f, ax = plt.subplots(1)\n",
    "plt.axvline(x=mejor_k, color=\"k\", linestyle=\"--\")\n",
    "plt.axhline(y=exac_mejor_k, color=\"r\", linestyle=\"--\")\n",
    "# print(promedio_aciertos_k[1])\n",
    "plt.plot(range(1,k_maximo), promedio_aciertos_k[1:k_maximo])\n",
    "# plt.yticks(list(plt.xticks()[0]) + promedio_aciertos_k[mejor_k])\n",
    "titulo = \"Exploracion hiperparametro K, K*=\" + str(mejor_k)\n",
    "plt.title(titulo)\n",
    "# print(\"Mejor k:\", mejor_k)\n",
    "# print(\"Mejor exactitud:\", promedios[mejor_k])\n",
    "\n",
    "# xt = ax.get_xticks() \n",
    "# xt=np.append(xt,1)\n",
    "\n",
    "# xtl=xt.tolist()\n",
    "# xtl[-1]=\"K=1\"\n",
    "# ax.set_xticks(xt)\n",
    "# ax.set_xticklabels(xtl)\n",
    "\n",
    "# ticks = [tick for tick in plt.gca().get_xticks() if tick >=0]\n",
    "# ax.set_xticks(ticks)\n",
    "# ax.set_xlim(left=1)\n",
    "\n",
    "yt = ax.get_yticks()\n",
    "yt = np.append(yt,exac_mejor_k)\n",
    "\n",
    "ytl = yt.tolist()\n",
    "ytl[-1] = exac_mejor_k\n",
    "ax.set_yticks(yt)\n",
    "ax.set_yticklabels(ytl)\n",
    "\n",
    "ticks = [tick for tick in plt.gca().get_yticks() if tick >=0]\n",
    "ax.set_yticks(ticks)\n",
    "\n",
    "# ax.set_xlim(right=30)\n",
    "\n",
    "plt.savefig('../results/figures/exploracion_param_k_zoom.png', bbox_inches='tight')"
   ]
  },
  {
   "cell_type": "markdown",
   "id": "ff42b022-99da-44d9-a4e5-d330d6448867",
   "metadata": {},
   "source": [
    "# 4: PCA\n",
    "Preprocesar los datos de entrenamiento con PCA, usando la implementación del método de la potencia para encontrar los autovectores de la matriz de covarianza.\n",
    "Visualizar la cantidad de varianza explicada en función de la cantidad de componentes p."
   ]
  },
  {
   "cell_type": "code",
   "execution_count": null,
   "id": "9b8b99e6-f943-4b42-a477-423a43d00560",
   "metadata": {},
   "outputs": [],
   "source": [
    "print(\"Corriendo Experimento 4...\")"
   ]
  },
  {
   "cell_type": "code",
   "execution_count": null,
   "id": "e368d1f0-a49a-405f-8c44-63a18f4cda43",
   "metadata": {},
   "outputs": [],
   "source": [
    "# Fueron hallados con los siguientes parametros\n",
    "Q = 1000\n",
    "df_train, df_test = separate_test_data(import_data())\n",
    "X_train, y_train = document_term_matrix(df_train, Q)\n",
    "X_test, y_test = test_document_term_matrix(df_test, df_train, Q)\n",
    "S, V = covarianceMatrixEVD(X_train, 100, 1e-7) # iteraciones, precision"
   ]
  },
  {
   "cell_type": "code",
   "execution_count": null,
   "id": "cd3dbd20-fad5-4eee-951d-761695a24565",
   "metadata": {},
   "outputs": [],
   "source": [
    "\n",
    "# Your existing code for var_cumu and p_95 remains the same\n",
    "var_cumu = np.cumsum(S) / np.sum(S)\n",
    "p_95 = np.argmax(var_cumu > 0.95)\n",
    "\n",
    "print(\"Resultado de Experimento 4:\")\n",
    "print(\"Numero de componentes que explican 95% de la varianza\", p_95)\n",
    "\n",
    "# First figure\n",
    "fig1, ax1 = plt.subplots()\n",
    "ax1.semilogy(S[:200])  # Limit to the first 200 components\n",
    "ax1.set_ylabel(\"Varianza explicada por componente\")\n",
    "ax1.set_xlabel('# componente')\n",
    "fig1.savefig('../results/figures/varianza_por_componente.png', bbox_inches='tight')\n",
    "\n",
    "# Second figure\n",
    "fig2, ax2 = plt.subplots()\n",
    "ax2.plot(var_cumu[:200])  # Limit to the first 200 components\n",
    "ax2.axvline(x=min(p_95, 199), color=\"k\", linestyle=\"--\")  # Ensure p_95 does not exceed 199\n",
    "ax2.axhline(y=0.95, color=\"r\", linestyle=\"--\")\n",
    "ax2.set_ylabel(\"Varianza explicada acumulada\")\n",
    "ax2.set_xlabel('# componentes')\n",
    "\n",
    "# Set x-ticks\n",
    "xticks2 = [i for i in range(0, 201, 100)]  # Adjust to go up to 200\n",
    "xticks2.append(min(p_95, 199))  # Ensure p_95 does not exceed 199\n",
    "ax2.set_xticks(xticks2)\n",
    "\n",
    "# Set y-ticks\n",
    "yticks2 = [i / 10.0 for i in range(3, 11, 1)]\n",
    "yticks2.append(0.95)\n",
    "ax2.set_yticks(yticks2)\n",
    "\n",
    "fig2.savefig('../results/figures/varianza_explicada.png', bbox_inches='tight')\n"
   ]
  },
  {
   "cell_type": "code",
   "execution_count": null,
   "id": "5c107c44-6466-4ced-92f6-2aca78b5ee98",
   "metadata": {},
   "outputs": [],
   "source": [
    "S[400]"
   ]
  },
  {
   "cell_type": "markdown",
   "id": "b726ac0a-c6be-48be-9c33-6aca601cbc06",
   "metadata": {},
   "source": [
    "# 5: Pipeline final - Exploración conjunta de los hiperparámetros k de KNN, y p de PCA.\n",
    "\n",
    "Configurar y correr."
   ]
  },
  {
   "cell_type": "code",
   "execution_count": null,
   "id": "5b8fe3b8-6d5a-409b-ae35-6b03b5524483",
   "metadata": {},
   "outputs": [],
   "source": [
    "print(\"Corriendo Experimento 5...\")"
   ]
  },
  {
   "cell_type": "code",
   "execution_count": null,
   "id": "6ed03d3a-8732-4119-b946-6a1772057585",
   "metadata": {},
   "outputs": [],
   "source": [
    "k_minimo = 1\n",
    "k_maximo = 250\n",
    "Q = default_Q\n",
    "# ps = np.concatenate((np.arange(1, 10, 1), np.arange(10, 100, 10), np.arange(100, 784, 50)))\n",
    "ps = np.arange(1, 250, 25)\n",
    "df_train, df_test = separate_test_data(import_data())\n",
    "X_train, y_train = document_term_matrix(df_train, Q)\n",
    "X_train, y_train = balancear_clases(X_train, y_train)\n",
    "X_test, y_test = test_document_term_matrix(df_test, df_train, Q)\n",
    "V_folds = load_folds_covMatEVD(X_train, y_train)"
   ]
  },
  {
   "cell_type": "code",
   "execution_count": null,
   "id": "4543618e-ae83-4932-a308-a867bb057805",
   "metadata": {},
   "outputs": [],
   "source": [
    "promedios_p_k = four_fold_cross_validation_k_p_exploration(V_folds, X_train, y_train, k_maximo, ps)"
   ]
  },
  {
   "cell_type": "code",
   "execution_count": null,
   "id": "87a29f25-ec7e-4f23-81a9-cfd66a73cf2b",
   "metadata": {},
   "outputs": [],
   "source": [
    "save_variable(promedios_p_k, \"promedios_p_k\")"
   ]
  },
  {
   "cell_type": "code",
   "execution_count": null,
   "id": "f240ed2d-72b7-48fa-b71c-20e72c4e84c9",
   "metadata": {},
   "outputs": [],
   "source": [
    "# Hallar k* y p*\n",
    "# k_maximo, ps, promedios_p_k = load_variable(file_name['exploracion_p_k'])\n",
    "\n",
    "P_optimo, K_optimo, mejorExactitud = arg_max_p_k(ps, k_maximo, promedios_p_k)\n",
    "print(\"Resultados cross validation, exploracion de k en: [1,\", k_maximo,\"] y p en:\", ps)\n",
    "print(\"P*: \", P_optimo, \" K*: \", K_optimo, \" Exa: \", mejorExactitud, sep='')"
   ]
  },
  {
   "cell_type": "code",
   "execution_count": null,
   "id": "e7176bfc-2e9f-4045-9aeb-dc6e41bb3302",
   "metadata": {},
   "outputs": [],
   "source": [
    "plt.plot(ps, promedios_p_k[::,1])\n",
    "titulo = \"Exactitud para distintos P con K=\" + str(K_optimo)\n",
    "plt.title(titulo)\n",
    "# plt.ax\n",
    "plt.savefig('../results/figures/cross_validation_k_p_exa_k1_2d.png', bbox_inches='tight')"
   ]
  },
  {
   "cell_type": "code",
   "execution_count": null,
   "id": "e81132c6-7e73-4117-bf68-930647bef8e5",
   "metadata": {},
   "outputs": [],
   "source": [
    "# Visualizar el cross validation\n",
    "from matplotlib import cm\n",
    "from matplotlib.ticker import LinearLocator\n",
    "\n",
    "fig, ax = plt.subplots(subplot_kw={\"projection\": \"3d\"})\n",
    "\n",
    "# Make data.\n",
    "X = np.arange(1, k_maximo) # K\n",
    "Y = ps\n",
    "X, Y = np.meshgrid(X, Y)\n",
    "Z = promedios_p_k[::, 1:k_maximo] # Ignorar k=0\n",
    "\n",
    "# Plot the surface.\n",
    "surf = ax.plot_surface(X, Y, Z, cmap=cm.coolwarm,\n",
    "                       linewidth=0, antialiased=False,\n",
    "                       alpha=0.75)\n",
    "\n",
    "ax.scatter(K_optimo, P_optimo, mejorExactitud, color='blue', s=50)\n",
    "\n",
    "# Customize the z axis.\n",
    "ax.zaxis.set_major_locator(LinearLocator(10))\n",
    "# A StrMethodFormatter is used automatically\n",
    "ax.zaxis.set_major_formatter('{x:.02f}')\n",
    "\n",
    "# Add a color bar which maps values to colors.\n",
    "fig.colorbar(surf, shrink=0.5, aspect=5)\n",
    "\n",
    "ax.set_xlabel('K Vecinos')\n",
    "ax.set_ylabel('P Componentes')\n",
    "ax.set_zlabel('% Exactitud')\n",
    "titulo = \"Valores optimos K*:\" + str(K_optimo) + \", P*:\" + str(P_optimo)\n",
    "ax.set_title(titulo)\n",
    "# ax.view_init(elev=10, azim=-80, roll=0)\n",
    "fig.savefig('../results/figures/cross_validation_k_p_exa_3d.png', bbox_inches='tight')"
   ]
  },
  {
   "cell_type": "markdown",
   "id": "e2f0816b-1ea3-4e90-91f2-3e45d05b532e",
   "metadata": {},
   "source": [
    "# 6: TF-IDF\n",
    "Transformar la matriz de conteo de palabras con el proceso TF-IDF (del inglés Term\n",
    "frequency – Inverse document frequency), aplicar la búsqueda de hiper-parámetros a\n",
    "esta nueva matriz de datos y reportar las diferencias."
   ]
  },
  {
   "cell_type": "code",
   "execution_count": null,
   "id": "68ae78c6-b06b-4652-a7f5-84b178f324c3",
   "metadata": {},
   "outputs": [],
   "source": [
    "K = 40\n",
    "Q = 500\n",
    "df_train, df_test = separate_test_data(import_data())\n",
    "X_train, y_train = document_term_matrix(df_train, Q)\n",
    "X_train, y_train = balancear_clases(X_train, y_train)\n",
    "X_test, y_test = test_document_term_matrix(df_test, df_train, Q)\n",
    "idf_train = inverse_document_frequency_matrix(df_train, Q)\n",
    "idf_train = np.tile(idf_train.T, (320,1))\n",
    "\n",
    "X_train = X_train * idf_train\n",
    "X_test = X_test * idf_train\n",
    "\n",
    "X_train = normalize_data(X_train)\n",
    "X_test = normalize_data(X_test)\n",
    "vecinos = calcular_vecinos(X_train, X_test)\n",
    "\n",
    "promedio_k_fijo = medir_exactitud(vecinos, y_train, y_test, K)\n",
    "\n",
    "print(\"Resultados Experimento 2:\")\n",
    "print(\"Con k: \", K, \", exactitud obtenida: \", promedio_k_fijo, sep = '')"
   ]
  },
  {
   "cell_type": "code",
   "execution_count": null,
   "id": "1f999660-e311-444e-a78a-9384cd157b09",
   "metadata": {},
   "outputs": [],
   "source": [
    "K = 1\n",
    "Q = 500\n",
    "df_train, df_test = separate_test_data(import_data())\n",
    "X_train, y_train = document_term_matrix(df_train, Q)\n",
    "X_train, y_train = balancear_clases(X_train, y_train)\n",
    "X_test, y_test = test_document_term_matrix(df_test, df_train, Q)\n",
    "idf_train = inverse_document_frequency_matrix(df_train, Q)\n",
    "idf_train = np.tile(idf_train.T, (320,1))\n",
    "\n",
    "X_train = X_train * idf_train\n",
    "X_test = X_test * idf_train\n",
    "\n",
    "promedio_aciertos_k = four_fold_cross_validation_k_exploration(X_train, y_train, k_maximo)"
   ]
  },
  {
   "cell_type": "code",
   "execution_count": null,
   "id": "35779e4c-995d-4a28-b5a4-2c6984f4f7ab",
   "metadata": {},
   "outputs": [],
   "source": [
    "f, ax = plt.subplots(1)\n",
    "ax.plot(promedio_aciertos_k[1:])\n",
    "plt.title(\"Exploracion hiperparametro K\")\n",
    "ax.set_xlabel(\"# vecinos\")\n",
    "ax.set_ylabel(\"% exactitud\")\n",
    "f.savefig('../results/figures/exploracion_param_k.png', bbox_inches='tight')"
   ]
  },
  {
   "cell_type": "code",
   "execution_count": null,
   "id": "bac2d1e9-7d8c-47d0-8a21-14781c061263",
   "metadata": {},
   "outputs": [],
   "source": [
    "# ZOOM primeros 30 elementos, mostrar max\n",
    "mejor_k = np.argmax(promedio_aciertos_k)\n",
    "exac_mejor_k = promedio_aciertos_k[mejor_k]\n",
    "f, ax = plt.subplots(1)\n",
    "plt.axvline(x=mejor_k, color=\"k\", linestyle=\"--\")\n",
    "plt.axhline(y=exac_mejor_k, color=\"r\", linestyle=\"--\")\n",
    "# print(promedio_aciertos_k[1])\n",
    "plt.plot(range(1,k_maximo), promedio_aciertos_k[1:k_maximo])\n",
    "# plt.yticks(list(plt.xticks()[0]) + promedio_aciertos_k[mejor_k])\n",
    "titulo = \"Exploracion hiperparametro K, K*=\" + str(mejor_k)\n",
    "plt.title(titulo)\n",
    "# print(\"Mejor k:\", mejor_k)\n",
    "# print(\"Mejor exactitud:\", promedios[mejor_k])\n",
    "\n",
    "# xt = ax.get_xticks() \n",
    "# xt=np.append(xt,1)\n",
    "\n",
    "# xtl=xt.tolist()\n",
    "# xtl[-1]=\"K=1\"\n",
    "# ax.set_xticks(xt)\n",
    "# ax.set_xticklabels(xtl)\n",
    "\n",
    "# ticks = [tick for tick in plt.gca().get_xticks() if tick >=0]\n",
    "# ax.set_xticks(ticks)\n",
    "# ax.set_xlim(left=1)\n",
    "\n",
    "yt = ax.get_yticks()\n",
    "yt = np.append(yt,exac_mejor_k)\n",
    "\n",
    "ytl = yt.tolist()\n",
    "ytl[-1] = exac_mejor_k\n",
    "ax.set_yticks(yt)\n",
    "ax.set_yticklabels(ytl)\n",
    "\n",
    "ticks = [tick for tick in plt.gca().get_yticks() if tick >=0]\n",
    "ax.set_yticks(ticks)\n",
    "\n",
    "# ax.set_xlim(right=30)\n",
    "\n",
    "plt.savefig('../results/figures/exploracion_param_k_zoom.png', bbox_inches='tight')"
   ]
  },
  {
   "cell_type": "markdown",
   "id": "f229dd95-eb14-458c-9b01-da0163d8d565",
   "metadata": {},
   "source": [
    "# 7 Distancia Euclidea"
   ]
  },
  {
   "cell_type": "code",
   "execution_count": 16,
   "id": "0558d3c2-72b6-4258-937c-bb03aa1de6ea",
   "metadata": {
    "execution": {
     "iopub.execute_input": "2024-10-19T22:52:01.036249Z",
     "iopub.status.busy": "2024-10-19T22:52:01.035892Z",
     "iopub.status.idle": "2024-10-19T22:52:01.236509Z",
     "shell.execute_reply": "2024-10-19T22:52:01.234137Z",
     "shell.execute_reply.started": "2024-10-19T22:52:01.036222Z"
    }
   },
   "outputs": [
    {
     "name": "stdout",
     "output_type": "stream",
     "text": [
      "(320, 1000)\n",
      "(80, 1000)\n",
      "(80, 320)\n",
      "(80, 320)\n",
      "Resultados Experimento 2:\n",
      "Con k: 40, exactitud obtenida: 0.8125\n"
     ]
    }
   ],
   "source": [
    "K = 40\n",
    "Q = 1000\n",
    "\n",
    "df_train, df_test = separate_test_data(import_data())\n",
    "X_train, y_train = document_term_matrix(df_train, Q)\n",
    "X_test, y_test = test_document_term_matrix(df_test, df_train, Q)\n",
    "\n",
    "X_train = normalize_data(X_train)\n",
    "X_test = normalize_data(X_test)\n",
    "print(X_train.shape)\n",
    "print(X_test.shape)\n",
    "vecinos = calcular_vecinos(X_train, X_test, False)\n",
    "print(vecinos.shape)\n",
    "promedio_k_fijo = medir_exactitud(vecinos, y_train, y_test, K)\n",
    "\n",
    "print(\"Resultados Experimento 2:\")\n",
    "print(\"Con k: \", K, \", exactitud obtenida: \", promedio_k_fijo, sep = '')"
   ]
  },
  {
   "cell_type": "code",
   "execution_count": 17,
   "id": "dc8f83eb-afc4-4992-b366-25a4b66422bf",
   "metadata": {
    "execution": {
     "iopub.execute_input": "2024-10-19T22:52:02.956463Z",
     "iopub.status.busy": "2024-10-19T22:52:02.956056Z",
     "iopub.status.idle": "2024-10-19T22:52:08.685031Z",
     "shell.execute_reply": "2024-10-19T22:52:08.684417Z",
     "shell.execute_reply.started": "2024-10-19T22:52:02.956432Z"
    }
   },
   "outputs": [
    {
     "name": "stdout",
     "output_type": "stream",
     "text": [
      "(80, 240)\n",
      "(80, 240)\n",
      "(80, 240)\n",
      "(80, 240)\n"
     ]
    }
   ],
   "source": [
    "k_maximo = 250\n",
    "Q = 1000\n",
    "\n",
    "df_train, df_test = separate_test_data(import_data())\n",
    "X_train, y_train = document_term_matrix(df_train, Q)\n",
    "X_train, y_train = balancear_clases(X_train, y_train)\n",
    "\n",
    "X_test, y_test = test_document_term_matrix(df_test, df_train, Q)\n",
    "\n",
    "promedio_aciertos_k = four_fold_cross_validation_k_exploration(X_train, y_train, k_maximo, False)"
   ]
  },
  {
   "cell_type": "code",
   "execution_count": 18,
   "id": "39497d8a-0043-4005-a9ac-a3e2118214a9",
   "metadata": {
    "execution": {
     "iopub.execute_input": "2024-10-19T22:52:17.580672Z",
     "iopub.status.busy": "2024-10-19T22:52:17.579967Z",
     "iopub.status.idle": "2024-10-19T22:52:17.939253Z",
     "shell.execute_reply": "2024-10-19T22:52:17.938424Z",
     "shell.execute_reply.started": "2024-10-19T22:52:17.580636Z"
    }
   },
   "outputs": [
    {
     "data": {
      "image/png": "[encoded data removed]",
      "text/plain": [
       "<Figure size 640x480 with 1 Axes>"
      ]
     },
     "metadata": {},
     "output_type": "display_data"
    }
   ],
   "source": [
    "# ZOOM primeros 30 elementos, mostrar max\n",
    "mejor_k = np.argmax(promedio_aciertos_k)\n",
    "exac_mejor_k = promedio_aciertos_k[mejor_k]\n",
    "f, ax = plt.subplots(1)\n",
    "plt.axvline(x=mejor_k, color=\"k\", linestyle=\"--\")\n",
    "plt.axhline(y=exac_mejor_k, color=\"r\", linestyle=\"--\")\n",
    "# print(promedio_aciertos_k[1])\n",
    "plt.plot(range(1,k_maximo), promedio_aciertos_k[1:k_maximo])\n",
    "# plt.yticks(list(plt.xticks()[0]) + promedio_aciertos_k[mejor_k])\n",
    "titulo = \"Exploracion hiperparametro K, K*=\" + str(mejor_k)\n",
    "plt.title(titulo)\n",
    "# print(\"Mejor k:\", mejor_k)\n",
    "# print(\"Mejor exactitud:\", promedios[mejor_k])\n",
    "\n",
    "# xt = ax.get_xticks() \n",
    "# xt=np.append(xt,1)\n",
    "\n",
    "# xtl=xt.tolist()\n",
    "# xtl[-1]=\"K=1\"\n",
    "# ax.set_xticks(xt)\n",
    "# ax.set_xticklabels(xtl)\n",
    "\n",
    "# ticks = [tick for tick in plt.gca().get_xticks() if tick >=0]\n",
    "# ax.set_xticks(ticks)\n",
    "# ax.set_xlim(left=1)\n",
    "\n",
    "yt = ax.get_yticks()\n",
    "yt = np.append(yt,exac_mejor_k)\n",
    "\n",
    "ytl = yt.tolist()\n",
    "ytl[-1] = exac_mejor_k\n",
    "ax.set_yticks(yt)\n",
    "ax.set_yticklabels(ytl)\n",
    "\n",
    "ticks = [tick for tick in plt.gca().get_yticks() if tick >=0]\n",
    "ax.set_yticks(ticks)\n",
    "\n",
    "# ax.set_xlim(right=30)\n",
    "\n",
    "plt.savefig('../results/figures/exploracion_param_k_zoom.png', bbox_inches='tight')"
   ]
  }
 ],
 "metadata": {
  "kernelspec": {
   "display_name": "envtp2",
   "language": "python",
   "name": "envtp2"
  },
  "language_info": {
   "codemirror_mode": {
    "name": "ipython",
    "version": 3
   },
   "file_extension": ".py",
   "mimetype": "text/x-python",
   "name": "python",
   "nbconvert_exporter": "python",
   "pygments_lexer": "ipython3",
   "version": "3.12.7"
  }
 },
 "nbformat": 4,
 "nbformat_minor": 5
}
