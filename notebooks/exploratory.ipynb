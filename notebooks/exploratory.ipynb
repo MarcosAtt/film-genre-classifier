{
 "cells": [
  {
   "cell_type": "code",
   "execution_count": 8,
   "id": "eca97269-89fa-478f-b785-0430ed2abd25",
   "metadata": {
    "execution": {
     "iopub.execute_input": "2024-10-15T21:25:11.754868Z",
     "iopub.status.busy": "2024-10-15T21:25:11.754011Z",
     "iopub.status.idle": "2024-10-15T21:25:11.784718Z",
     "shell.execute_reply": "2024-10-15T21:25:11.784181Z",
     "shell.execute_reply.started": "2024-10-15T21:25:11.754812Z"
    }
   },
   "outputs": [],
   "source": [
    "import pandas as pd\n",
    "import numpy as np\n",
    "df = pd.read_csv(\"../data/raw/wiki_movie_plots_deduped_sample.csv\")"
   ]
  },
  {
   "cell_type": "code",
   "execution_count": 3,
   "id": "fba40914-c90d-44ff-804f-8d07b18a37f1",
   "metadata": {
    "execution": {
     "iopub.execute_input": "2024-10-15T21:21:05.172364Z",
     "iopub.status.busy": "2024-10-15T21:21:05.171550Z",
     "iopub.status.idle": "2024-10-15T21:21:05.186800Z",
     "shell.execute_reply": "2024-10-15T21:21:05.186253Z",
     "shell.execute_reply.started": "2024-10-15T21:21:05.172319Z"
    }
   },
   "outputs": [
    {
     "data": {
      "text/html": [
       "<div>\n",
       "<style scoped>\n",
       "    .dataframe tbody tr th:only-of-type {\n",
       "        vertical-align: middle;\n",
       "    }\n",
       "\n",
       "    .dataframe tbody tr th {\n",
       "        vertical-align: top;\n",
       "    }\n",
       "\n",
       "    .dataframe thead th {\n",
       "        text-align: right;\n",
       "    }\n",
       "</style>\n",
       "<table border=\"1\" class=\"dataframe\">\n",
       "  <thead>\n",
       "    <tr style=\"text-align: right;\">\n",
       "      <th></th>\n",
       "      <th>Release Year</th>\n",
       "      <th>Title</th>\n",
       "      <th>Origin/Ethnicity</th>\n",
       "      <th>Director</th>\n",
       "      <th>Cast</th>\n",
       "      <th>Genre</th>\n",
       "      <th>Wiki Page</th>\n",
       "      <th>Plot</th>\n",
       "      <th>tokens</th>\n",
       "      <th>split</th>\n",
       "    </tr>\n",
       "  </thead>\n",
       "  <tbody>\n",
       "    <tr>\n",
       "      <th>0</th>\n",
       "      <td>2009</td>\n",
       "      <td>A Very Short Life</td>\n",
       "      <td>Hong Kong</td>\n",
       "      <td>Dennis Law</td>\n",
       "      <td>Dennis Law (director); Leila Tong, Maggie Siu,...</td>\n",
       "      <td>crime</td>\n",
       "      <td>https://en.wikipedia.org/wiki/A_Very_Short_Life</td>\n",
       "      <td>In Hong Kong, Dennis Law, a property developer...</td>\n",
       "      <td>hong kong property developer filmmaker attend ...</td>\n",
       "      <td>train</td>\n",
       "    </tr>\n",
       "    <tr>\n",
       "      <th>1</th>\n",
       "      <td>1991</td>\n",
       "      <td>Let Him Have It</td>\n",
       "      <td>British</td>\n",
       "      <td>Peter Medak</td>\n",
       "      <td>Christopher Eccleston, Tom Courtenay</td>\n",
       "      <td>crime</td>\n",
       "      <td>https://en.wikipedia.org/wiki/Let_Him_Have_It</td>\n",
       "      <td>Derek Bentley (Eccleston) is an illiterate, ep...</td>\n",
       "      <td>illiterate epileptic young adult developmental...</td>\n",
       "      <td>train</td>\n",
       "    </tr>\n",
       "    <tr>\n",
       "      <th>2</th>\n",
       "      <td>2002</td>\n",
       "      <td>Birthday Girl</td>\n",
       "      <td>American</td>\n",
       "      <td>Jez Butterworth</td>\n",
       "      <td>Nicole Kidman, Ben Chaplin, Vincent Cassel</td>\n",
       "      <td>crime</td>\n",
       "      <td>https://en.wikipedia.org/wiki/Birthday_Girl</td>\n",
       "      <td>John Buckingham (Ben Chaplin), a lonely St Alb...</td>\n",
       "      <td>lonely st albans bank clerk order mail order b...</td>\n",
       "      <td>train</td>\n",
       "    </tr>\n",
       "    <tr>\n",
       "      <th>3</th>\n",
       "      <td>1958</td>\n",
       "      <td>The Man Inside</td>\n",
       "      <td>British</td>\n",
       "      <td>John Gilling</td>\n",
       "      <td>Jack Palance, Anita Ekberg</td>\n",
       "      <td>crime</td>\n",
       "      <td>https://en.wikipedia.org/wiki/The_Man_Inside_(...</td>\n",
       "      <td>Sam Carter (Patrick) is a jeweler's clerk who ...</td>\n",
       "      <td>jeweler clerk dream steal fortune diamond even...</td>\n",
       "      <td>train</td>\n",
       "    </tr>\n",
       "    <tr>\n",
       "      <th>4</th>\n",
       "      <td>2011</td>\n",
       "      <td>X</td>\n",
       "      <td>Australian</td>\n",
       "      <td>Jon Hewitt</td>\n",
       "      <td>Viva Bianca</td>\n",
       "      <td>crime</td>\n",
       "      <td>https://en.wikipedia.org/wiki/X_(2011_film)</td>\n",
       "      <td>Shay (Hanna Mangan-Lawrence), a runaway on her...</td>\n",
       "      <td>shay runaway night sydney work prostitute beat...</td>\n",
       "      <td>train</td>\n",
       "    </tr>\n",
       "    <tr>\n",
       "      <th>...</th>\n",
       "      <td>...</td>\n",
       "      <td>...</td>\n",
       "      <td>...</td>\n",
       "      <td>...</td>\n",
       "      <td>...</td>\n",
       "      <td>...</td>\n",
       "      <td>...</td>\n",
       "      <td>...</td>\n",
       "      <td>...</td>\n",
       "      <td>...</td>\n",
       "    </tr>\n",
       "    <tr>\n",
       "      <th>395</th>\n",
       "      <td>1954</td>\n",
       "      <td>Dawn at Socorro</td>\n",
       "      <td>American</td>\n",
       "      <td>George Sherman</td>\n",
       "      <td>Rory Calhoun, Piper Laurie, David Brian, Kathl...</td>\n",
       "      <td>western</td>\n",
       "      <td>https://en.wikipedia.org/wiki/Dawn_at_Socorro</td>\n",
       "      <td>A retired gunfighter (Rory Calhoun) and a salo...</td>\n",
       "      <td>retired gunfighter saloonkeeper play card salo...</td>\n",
       "      <td>train</td>\n",
       "    </tr>\n",
       "    <tr>\n",
       "      <th>396</th>\n",
       "      <td>1959</td>\n",
       "      <td>The Miracle of the Hills</td>\n",
       "      <td>American</td>\n",
       "      <td>Paul Landres</td>\n",
       "      <td>Rex Reason, Betty Lou Gerson</td>\n",
       "      <td>western</td>\n",
       "      <td>https://en.wikipedia.org/wiki/The_Miracle_of_t...</td>\n",
       "      <td>A minister arrives at a run-down mining town t...</td>\n",
       "      <td>minister arrive run mining town church find wo...</td>\n",
       "      <td>test</td>\n",
       "    </tr>\n",
       "    <tr>\n",
       "      <th>397</th>\n",
       "      <td>1959</td>\n",
       "      <td>Ride Lonesome</td>\n",
       "      <td>American</td>\n",
       "      <td>Budd Boetticher</td>\n",
       "      <td>Randolph Scott</td>\n",
       "      <td>western</td>\n",
       "      <td>https://en.wikipedia.org/wiki/Ride_Lonesome</td>\n",
       "      <td>Bounty hunter Ben Brigade (Randolph Scott) cap...</td>\n",
       "      <td>bounty hunter capture want outlaw brag brother...</td>\n",
       "      <td>train</td>\n",
       "    </tr>\n",
       "    <tr>\n",
       "      <th>398</th>\n",
       "      <td>1952</td>\n",
       "      <td>The Battle at Apache Pass</td>\n",
       "      <td>American</td>\n",
       "      <td>George Sherman</td>\n",
       "      <td>John Lund, Jeff Chandler</td>\n",
       "      <td>western</td>\n",
       "      <td>https://en.wikipedia.org/wiki/The_Battle_at_Ap...</td>\n",
       "      <td>In 1862, as the Civil War rages in the Southea...</td>\n",
       "      <td>civil war rage southeastern state southwest fa...</td>\n",
       "      <td>train</td>\n",
       "    </tr>\n",
       "    <tr>\n",
       "      <th>399</th>\n",
       "      <td>1943</td>\n",
       "      <td>In Old Oklahoma</td>\n",
       "      <td>American</td>\n",
       "      <td>Albert S. Rogell</td>\n",
       "      <td>John Wayne, Martha Scott, Dale Evans</td>\n",
       "      <td>western</td>\n",
       "      <td>https://en.wikipedia.org/wiki/In_Old_Oklahoma</td>\n",
       "      <td>Eastern school teacher Catherine Allen becomes...</td>\n",
       "      <td>eastern school teacher notorious learn author ...</td>\n",
       "      <td>test</td>\n",
       "    </tr>\n",
       "  </tbody>\n",
       "</table>\n",
       "<p>400 rows × 10 columns</p>\n",
       "</div>"
      ],
      "text/plain": [
       "     Release Year                      Title Origin/Ethnicity  \\\n",
       "0            2009          A Very Short Life        Hong Kong   \n",
       "1            1991            Let Him Have It          British   \n",
       "2            2002              Birthday Girl         American   \n",
       "3            1958             The Man Inside          British   \n",
       "4            2011                          X       Australian   \n",
       "..            ...                        ...              ...   \n",
       "395          1954            Dawn at Socorro         American   \n",
       "396          1959   The Miracle of the Hills         American   \n",
       "397          1959              Ride Lonesome         American   \n",
       "398          1952  The Battle at Apache Pass         American   \n",
       "399          1943            In Old Oklahoma         American   \n",
       "\n",
       "             Director                                               Cast  \\\n",
       "0          Dennis Law  Dennis Law (director); Leila Tong, Maggie Siu,...   \n",
       "1         Peter Medak               Christopher Eccleston, Tom Courtenay   \n",
       "2     Jez Butterworth         Nicole Kidman, Ben Chaplin, Vincent Cassel   \n",
       "3        John Gilling                         Jack Palance, Anita Ekberg   \n",
       "4          Jon Hewitt                                        Viva Bianca   \n",
       "..                ...                                                ...   \n",
       "395    George Sherman  Rory Calhoun, Piper Laurie, David Brian, Kathl...   \n",
       "396      Paul Landres                       Rex Reason, Betty Lou Gerson   \n",
       "397   Budd Boetticher                                     Randolph Scott   \n",
       "398    George Sherman                           John Lund, Jeff Chandler   \n",
       "399  Albert S. Rogell               John Wayne, Martha Scott, Dale Evans   \n",
       "\n",
       "       Genre                                          Wiki Page  \\\n",
       "0      crime    https://en.wikipedia.org/wiki/A_Very_Short_Life   \n",
       "1      crime      https://en.wikipedia.org/wiki/Let_Him_Have_It   \n",
       "2      crime        https://en.wikipedia.org/wiki/Birthday_Girl   \n",
       "3      crime  https://en.wikipedia.org/wiki/The_Man_Inside_(...   \n",
       "4      crime        https://en.wikipedia.org/wiki/X_(2011_film)   \n",
       "..       ...                                                ...   \n",
       "395  western      https://en.wikipedia.org/wiki/Dawn_at_Socorro   \n",
       "396  western  https://en.wikipedia.org/wiki/The_Miracle_of_t...   \n",
       "397  western        https://en.wikipedia.org/wiki/Ride_Lonesome   \n",
       "398  western  https://en.wikipedia.org/wiki/The_Battle_at_Ap...   \n",
       "399  western      https://en.wikipedia.org/wiki/In_Old_Oklahoma   \n",
       "\n",
       "                                                  Plot  \\\n",
       "0    In Hong Kong, Dennis Law, a property developer...   \n",
       "1    Derek Bentley (Eccleston) is an illiterate, ep...   \n",
       "2    John Buckingham (Ben Chaplin), a lonely St Alb...   \n",
       "3    Sam Carter (Patrick) is a jeweler's clerk who ...   \n",
       "4    Shay (Hanna Mangan-Lawrence), a runaway on her...   \n",
       "..                                                 ...   \n",
       "395  A retired gunfighter (Rory Calhoun) and a salo...   \n",
       "396  A minister arrives at a run-down mining town t...   \n",
       "397  Bounty hunter Ben Brigade (Randolph Scott) cap...   \n",
       "398  In 1862, as the Civil War rages in the Southea...   \n",
       "399  Eastern school teacher Catherine Allen becomes...   \n",
       "\n",
       "                                                tokens  split  \n",
       "0    hong kong property developer filmmaker attend ...  train  \n",
       "1    illiterate epileptic young adult developmental...  train  \n",
       "2    lonely st albans bank clerk order mail order b...  train  \n",
       "3    jeweler clerk dream steal fortune diamond even...  train  \n",
       "4    shay runaway night sydney work prostitute beat...  train  \n",
       "..                                                 ...    ...  \n",
       "395  retired gunfighter saloonkeeper play card salo...  train  \n",
       "396  minister arrive run mining town church find wo...   test  \n",
       "397  bounty hunter capture want outlaw brag brother...  train  \n",
       "398  civil war rage southeastern state southwest fa...  train  \n",
       "399  eastern school teacher notorious learn author ...   test  \n",
       "\n",
       "[400 rows x 10 columns]"
      ]
     },
     "execution_count": 3,
     "metadata": {},
     "output_type": "execute_result"
    }
   ],
   "source": [
    "df"
   ]
  },
  {
   "cell_type": "code",
   "execution_count": 109,
   "id": "c57b65ef-b4ab-4214-a78e-d3da909dc8a2",
   "metadata": {
    "execution": {
     "iopub.execute_input": "2024-10-15T22:52:55.085940Z",
     "iopub.status.busy": "2024-10-15T22:52:55.085415Z",
     "iopub.status.idle": "2024-10-15T22:52:55.091011Z",
     "shell.execute_reply": "2024-10-15T22:52:55.090360Z",
     "shell.execute_reply.started": "2024-10-15T22:52:55.085910Z"
    }
   },
   "outputs": [
    {
     "name": "stdout",
     "output_type": "stream",
     "text": [
      "western\n",
      "\n",
      "hong kong property developer filmmaker attend dinner party host attorney friend party dennis meet female police inspector decide tell police investigation involve murder young girl story flash cat meet police commissioner wish open investigation involve death young girl hand mother join female colleague criminologist ivy police sergeant decide conduct interrogation suspect interrogation becky refuse statement result subject police brutality colleague leave naked cold interrogation room later conduct body cavity search cat later tell involved investigation arrive hospital find little girl lie unconscious body scar die immediately doctor prepare operation later arrest becky boyfriend catch try rid possible evidence computer police find series burn videotape cat reveal tape contain child pornography interrogation reveal officer physically restrain becky force watch videotape feature have sex daughter interrogation flashback reveal heiyi receive multiple scar physically beat whip belt becky jail cell becky attempt suicide cut wrist stone bed later gnaw artery hospital decide meet becky feel woman bear body man reveal sexually harass abuse father young age meet man give birth heiyi reveal know rape daughter repeatedly buddhism belief give becky advice tell use prison term reform film end engage friendly phone daughter\n"
     ]
    }
   ],
   "source": [
    "print(df.iloc[399][\"Genre\"])\n",
    "print()\n",
    "print(df.iloc[0][\"tokens\"])"
   ]
  },
  {
   "cell_type": "code",
   "execution_count": 5,
   "id": "bd8b84aa-f449-4eec-bbdb-0cbb68284925",
   "metadata": {
    "execution": {
     "iopub.execute_input": "2024-10-15T21:23:44.389579Z",
     "iopub.status.busy": "2024-10-15T21:23:44.388821Z",
     "iopub.status.idle": "2024-10-15T21:23:44.503965Z",
     "shell.execute_reply": "2024-10-15T21:23:44.503116Z",
     "shell.execute_reply.started": "2024-10-15T21:23:44.389534Z"
    }
   },
   "outputs": [
    {
     "data": {
      "text/plain": [
       "Genre            split\n",
       "crime            train    80\n",
       "romance          train    80\n",
       "western          train    80\n",
       "science fiction  train    80\n",
       "romance          test     20\n",
       "crime            test     20\n",
       "science fiction  test     20\n",
       "western          test     20\n",
       "Name: count, dtype: int64"
      ]
     },
     "execution_count": 5,
     "metadata": {},
     "output_type": "execute_result"
    }
   ],
   "source": [
    "df.value_counts([\"Genre\",\"split\"])"
   ]
  },
  {
   "cell_type": "code",
   "execution_count": 105,
   "id": "3fe6ee7c-401c-4150-b299-9fd0bef52f74",
   "metadata": {
    "execution": {
     "iopub.execute_input": "2024-10-15T22:52:01.945694Z",
     "iopub.status.busy": "2024-10-15T22:52:01.945290Z",
     "iopub.status.idle": "2024-10-15T22:52:01.949806Z",
     "shell.execute_reply": "2024-10-15T22:52:01.948953Z",
     "shell.execute_reply.started": "2024-10-15T22:52:01.945667Z"
    }
   },
   "outputs": [],
   "source": [
    "# pd.Series(tokens).value_counts().head(10).sort_values().plot(kind='barh', figsize=(10,10));\n",
    "from variables import *"
   ]
  },
  {
   "cell_type": "code",
   "execution_count": 107,
   "id": "fb5e04ef-2b60-42ae-97cd-6ce1e1dec5eb",
   "metadata": {
    "execution": {
     "iopub.execute_input": "2024-10-15T22:52:21.613020Z",
     "iopub.status.busy": "2024-10-15T22:52:21.612291Z",
     "iopub.status.idle": "2024-10-15T22:52:21.764446Z",
     "shell.execute_reply": "2024-10-15T22:52:21.763834Z",
     "shell.execute_reply.started": "2024-10-15T22:52:21.612982Z"
    }
   },
   "outputs": [],
   "source": [
    "# string representation of list to list using ast.literal_eval()\n",
    "tokens = np.hstack(df[\"tokens\"].apply(lambda x: x.split()).values)\n",
    "\n",
    "len(np.unique(tokens))\n",
    "unique_tokens = pd.Series(tokens).value_counts().index[:1000].values\n",
    "\n",
    "unique_tokens_dict = dict(zip(unique_tokens, range(len(unique_tokens))))\n",
    "\n",
    "X_train = np.zeros((320, len(unique_tokens)), dtype=int)\n",
    "X_test = np.zeros((80, len(unique_tokens)), dtype=int)\n",
    "Y_train = np.zeros((320, 1), dtype=int)\n",
    "Y_test = np.zeros((80, 1), dtype=int)\n",
    "itrain = 0\n",
    "itest = 0\n",
    "\n",
    "for i, row in df.iterrows():\n",
    "    if row[\"split\"] == \"train\":\n",
    "        for token in row[\"tokens\"].split():\n",
    "            if unique_tokens_dict.get(token,False)!=False:\n",
    "                X_train[itrain, unique_tokens_dict[token]] += 1\n",
    "        Y_train[itrain] = genre_name.index(row[\"Genre\"])\n",
    "        itrain += 1\n",
    "    else:\n",
    "        for token in row[\"tokens\"].split():\n",
    "            if unique_tokens_dict.get(token,False)!=False:\n",
    "                X_test[itest, unique_tokens_dict[token]] += 1\n",
    "        Y_test[itest] = genre_name.index(row[\"Genre\"])\n",
    "        itest += 1"
   ]
  },
  {
   "cell_type": "code",
   "execution_count": 110,
   "id": "1d11c523-e4c3-4722-9ae2-befa88c0ff95",
   "metadata": {
    "execution": {
     "iopub.execute_input": "2024-10-15T22:53:08.784977Z",
     "iopub.status.busy": "2024-10-15T22:53:08.784275Z",
     "iopub.status.idle": "2024-10-15T22:53:08.791337Z",
     "shell.execute_reply": "2024-10-15T22:53:08.790622Z",
     "shell.execute_reply.started": "2024-10-15T22:53:08.784934Z"
    }
   },
   "outputs": [
    {
     "data": {
      "text/plain": [
       "array([[0],\n",
       "       [0],\n",
       "       [0],\n",
       "       [0],\n",
       "       [0],\n",
       "       [0],\n",
       "       [0],\n",
       "       [0],\n",
       "       [0],\n",
       "       [0],\n",
       "       [0],\n",
       "       [0],\n",
       "       [0],\n",
       "       [0],\n",
       "       [0],\n",
       "       [0],\n",
       "       [0],\n",
       "       [0],\n",
       "       [0],\n",
       "       [0],\n",
       "       [1],\n",
       "       [1],\n",
       "       [1],\n",
       "       [1],\n",
       "       [1],\n",
       "       [1],\n",
       "       [1],\n",
       "       [1],\n",
       "       [1],\n",
       "       [1],\n",
       "       [1],\n",
       "       [1],\n",
       "       [1],\n",
       "       [1],\n",
       "       [1],\n",
       "       [1],\n",
       "       [1],\n",
       "       [1],\n",
       "       [1],\n",
       "       [1],\n",
       "       [2],\n",
       "       [2],\n",
       "       [2],\n",
       "       [2],\n",
       "       [2],\n",
       "       [2],\n",
       "       [2],\n",
       "       [2],\n",
       "       [2],\n",
       "       [2],\n",
       "       [2],\n",
       "       [2],\n",
       "       [2],\n",
       "       [2],\n",
       "       [2],\n",
       "       [2],\n",
       "       [2],\n",
       "       [2],\n",
       "       [2],\n",
       "       [2],\n",
       "       [3],\n",
       "       [3],\n",
       "       [3],\n",
       "       [3],\n",
       "       [3],\n",
       "       [3],\n",
       "       [3],\n",
       "       [3],\n",
       "       [3],\n",
       "       [3],\n",
       "       [3],\n",
       "       [3],\n",
       "       [3],\n",
       "       [3],\n",
       "       [3],\n",
       "       [3],\n",
       "       [3],\n",
       "       [3],\n",
       "       [3],\n",
       "       [3]])"
      ]
     },
     "execution_count": 110,
     "metadata": {},
     "output_type": "execute_result"
    }
   ],
   "source": [
    "Y_test"
   ]
  },
  {
   "cell_type": "code",
   "execution_count": 59,
   "id": "15691fb8-31ae-44c3-9932-c46d2f3057a1",
   "metadata": {
    "execution": {
     "iopub.execute_input": "2024-10-15T22:04:44.580551Z",
     "iopub.status.busy": "2024-10-15T22:04:44.579574Z",
     "iopub.status.idle": "2024-10-15T22:04:44.585533Z",
     "shell.execute_reply": "2024-10-15T22:04:44.584507Z",
     "shell.execute_reply.started": "2024-10-15T22:04:44.580507Z"
    }
   },
   "outputs": [
    {
     "name": "stdout",
     "output_type": "stream",
     "text": [
      "(5000,)\n",
      "Release Year                                                     2008\n",
      "Title                                                      Chaturanga\n",
      "Origin/Ethnicity                                              Bengali\n",
      "Director                                              Suman Mukherjee\n",
      "Cast                                                              NaN\n",
      "Genre                                                         romance\n",
      "Wiki Page             https://en.wikipedia.org/wiki/Chaturanga_(film)\n",
      "Plot                Based on the novel by author Rabindranath Tago...\n",
      "tokens              base novel author chaturanga love catch confli...\n",
      "split                                                            test\n",
      "Name: 124, dtype: object\n"
     ]
    }
   ],
   "source": [
    "print(X[0].shape)\n",
    "print(df.iloc(0)[124])"
   ]
  },
  {
   "cell_type": "code",
   "execution_count": 80,
   "id": "cecda9a3-aac9-4d48-9f9d-23e22332c13c",
   "metadata": {
    "execution": {
     "iopub.execute_input": "2024-10-15T22:29:56.480470Z",
     "iopub.status.busy": "2024-10-15T22:29:56.480073Z",
     "iopub.status.idle": "2024-10-15T22:29:56.484361Z",
     "shell.execute_reply": "2024-10-15T22:29:56.483440Z",
     "shell.execute_reply.started": "2024-10-15T22:29:56.480443Z"
    }
   },
   "outputs": [],
   "source": [
    "# df.info()"
   ]
  },
  {
   "cell_type": "code",
   "execution_count": 66,
   "id": "3307b447-b3da-414d-868c-2b174a19807a",
   "metadata": {
    "execution": {
     "iopub.execute_input": "2024-10-15T22:16:11.306757Z",
     "iopub.status.busy": "2024-10-15T22:16:11.306062Z",
     "iopub.status.idle": "2024-10-15T22:16:11.313532Z",
     "shell.execute_reply": "2024-10-15T22:16:11.312704Z",
     "shell.execute_reply.started": "2024-10-15T22:16:11.306724Z"
    }
   },
   "outputs": [
    {
     "name": "stdout",
     "output_type": "stream",
     "text": [
      "Train set shape: (320, 10)\n",
      "Test set shape: (80, 10)\n"
     ]
    }
   ],
   "source": [
    "train_df = df[df['split'] == 'train']\n",
    "test_df = df[df['split'] == 'test']\n",
    "\n",
    "# Optionally, print the shapes of the train and test DataFrames\n",
    "print(\"Train set shape:\", train_df.shape)\n",
    "print(\"Test set shape:\", test_df.shape)"
   ]
  },
  {
   "cell_type": "code",
   "execution_count": 62,
   "id": "ffc0a0de-e124-42fd-a5fe-54bb89044684",
   "metadata": {
    "execution": {
     "iopub.execute_input": "2024-10-15T22:10:32.972181Z",
     "iopub.status.busy": "2024-10-15T22:10:32.971777Z",
     "iopub.status.idle": "2024-10-15T22:10:33.990802Z",
     "shell.execute_reply": "2024-10-15T22:10:33.990287Z",
     "shell.execute_reply.started": "2024-10-15T22:10:32.972150Z"
    }
   },
   "outputs": [],
   "source": [
    "import sys\n",
    "sys.path.append(\"/home/marcos/computacion/metodos_numericos_2c_2024/film-genre-classifier/film-classifier/\")\n",
    "import knn"
   ]
  },
  {
   "cell_type": "code",
   "execution_count": 63,
   "id": "317fae91-d31e-4a67-af4c-c533c802dfbb",
   "metadata": {
    "execution": {
     "iopub.execute_input": "2024-10-15T22:10:46.449536Z",
     "iopub.status.busy": "2024-10-15T22:10:46.448639Z",
     "iopub.status.idle": "2024-10-15T22:10:46.456105Z",
     "shell.execute_reply": "2024-10-15T22:10:46.455338Z",
     "shell.execute_reply.started": "2024-10-15T22:10:46.449497Z"
    }
   },
   "outputs": [
    {
     "name": "stdout",
     "output_type": "stream",
     "text": [
      "Help on module knn:\n",
      "\n",
      "NAME\n",
      "    knn\n",
      "\n",
      "FUNCTIONS\n",
      "    calcular_vecinos(X_train, X_dev)\n",
      "\n",
      "    contar_predicciones_correctas(guesses, y_dev)\n",
      "\n",
      "    distancia_coseno(dev, train)\n",
      "\n",
      "    medir_exactitud(vecinos, y_train, y_dev, k) -> float\n",
      "\n",
      "    moda_cada_elemento(vecinos, y_train, k)\n",
      "\n",
      "    normalize_data(data)\n",
      "\n",
      "FILE\n",
      "    /home/marcos/computacion/metodos_numericos_2c_2024/film-genre-classifier/film-classifier/knn.py\n",
      "\n",
      "\n"
     ]
    }
   ],
   "source": [
    "help(knn)"
   ]
  },
  {
   "cell_type": "code",
   "execution_count": null,
   "id": "747d1380-fd43-4209-9a54-74e84c9f1e49",
   "metadata": {},
   "outputs": [],
   "source": [
    "K = 5\n",
    "X_train, y_train, X_test, y_test = load_dataset()\n",
    "\n",
    "X_train = normalize_data(X_train)\n",
    "X_test = normalize_data(X_test)\n",
    "vecinos = calcular_vecinos(X_train, X_test)\n",
    "\n",
    "promedio_k_fijo = medir_exactitud(vecinos, y_train, y_test, K)\n",
    "\n",
    "print(\"Resultados Experimento 2:\")\n",
    "print(\"Con k: \", K, \", exactitud obtenida: \", promedio_k_fijo, sep = '')\n",
    "\n"
   ]
  }
 ],
 "metadata": {
  "kernelspec": {
   "display_name": "envtp2",
   "language": "python",
   "name": "envtp2"
  },
  "language_info": {
   "codemirror_mode": {
    "name": "ipython",
    "version": 3
   },
   "file_extension": ".py",
   "mimetype": "text/x-python",
   "name": "python",
   "nbconvert_exporter": "python",
   "pygments_lexer": "ipython3",
   "version": "3.12.7"
  }
 },
 "nbformat": 4,
 "nbformat_minor": 5
}
