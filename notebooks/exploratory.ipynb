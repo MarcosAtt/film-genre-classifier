{
 "cells": [
  {
   "cell_type": "code",
   "execution_count": null,
   "id": "1c52c9a6-0f09-488d-b77a-ce93442b77d9",
   "metadata": {},
   "outputs": [],
   "source": [
    "%load_ext autoreload\n",
    "%autoreload 2"
   ]
  },
  {
   "cell_type": "code",
   "execution_count": 10,
   "id": "eca97269-89fa-478f-b785-0430ed2abd25",
   "metadata": {
    "execution": {
     "iopub.execute_input": "2024-10-17T23:21:18.762612Z",
     "iopub.status.busy": "2024-10-17T23:21:18.762101Z",
     "iopub.status.idle": "2024-10-17T23:21:18.851005Z",
     "shell.execute_reply": "2024-10-17T23:21:18.850481Z",
     "shell.execute_reply.started": "2024-10-17T23:21:18.762583Z"
    }
   },
   "outputs": [],
   "source": [
    "import pandas as pd\n",
    "import numpy as np\n",
    "import sys\n",
    "\n",
    "sys.path.append(\"/home/marcos/computacion/metodos_numericos_2c_2024/film-genre-classifier/film-classifier/\")\n",
    "from knn import *\n",
    "from cross_validation import *\n",
    "from data_preprocessing import *\n",
    "\n",
    "df = pd.read_csv(\"../data/raw/wiki_movie_plots_deduped_sample.csv\")"
   ]
  },
  {
   "cell_type": "code",
   "execution_count": null,
   "id": "fba40914-c90d-44ff-804f-8d07b18a37f1",
   "metadata": {},
   "outputs": [],
   "source": [
    "df"
   ]
  },
  {
   "cell_type": "code",
   "execution_count": null,
   "id": "c57b65ef-b4ab-4214-a78e-d3da909dc8a2",
   "metadata": {},
   "outputs": [],
   "source": [
    "print(df.iloc[399][\"Genre\"])\n",
    "print()\n",
    "print(df.iloc[0][\"tokens\"])"
   ]
  },
  {
   "cell_type": "code",
   "execution_count": null,
   "id": "bd8b84aa-f449-4eec-bbdb-0cbb68284925",
   "metadata": {},
   "outputs": [],
   "source": [
    "df.value_counts([\"Genre\",\"split\"])"
   ]
  },
  {
   "cell_type": "code",
   "execution_count": null,
   "id": "3fe6ee7c-401c-4150-b299-9fd0bef52f74",
   "metadata": {},
   "outputs": [],
   "source": [
    "# pd.Series(tokens).value_counts().head(10).sort_values().plot(kind='barh', figsize=(10,10));\n",
    "from variables import *"
   ]
  },
  {
   "cell_type": "code",
   "execution_count": null,
   "id": "fb5e04ef-2b60-42ae-97cd-6ce1e1dec5eb",
   "metadata": {},
   "outputs": [],
   "source": [
    "# string representation of list to list using ast.literal_eval()\n",
    "tokens = np.hstack(df[\"tokens\"].apply(lambda x: x.split()).values)\n",
    "\n",
    "len(np.unique(tokens))\n",
    "unique_tokens = pd.Series(tokens).value_counts().index[:5000].values\n",
    "\n",
    "unique_tokens_dict = dict(zip(unique_tokens, range(len(unique_tokens))))\n",
    "\n",
    "X_train = np.zeros((320, len(unique_tokens)), dtype=int)\n",
    "X_test = np.zeros((80, len(unique_tokens)), dtype=int)\n",
    "y_train = np.zeros((320, 1), dtype=int)\n",
    "y_test = np.zeros((80, 1), dtype=int)\n",
    "itrain = 0\n",
    "itest = 0\n",
    "\n",
    "for i, row in df.iterrows():\n",
    "    if row[\"split\"] == \"train\":\n",
    "        for token in row[\"tokens\"].split():\n",
    "            if unique_tokens_dict.get(token,False)!=False:\n",
    "                X_train[itrain, unique_tokens_dict[token]] += 1\n",
    "        y_train[itrain] = genre_name.index(row[\"Genre\"])\n",
    "        itrain += 1\n",
    "    else:\n",
    "        for token in row[\"tokens\"].split():\n",
    "            if unique_tokens_dict.get(token,False)!=False:\n",
    "                X_test[itest, unique_tokens_dict[token]] += 1\n",
    "        y_test[itest] = genre_name.index(row[\"Genre\"])\n",
    "        itest += 1"
   ]
  },
  {
   "cell_type": "code",
   "execution_count": null,
   "id": "15691fb8-31ae-44c3-9932-c46d2f3057a1",
   "metadata": {},
   "outputs": [],
   "source": [
    "print(X[0].shape)\n",
    "print(df.iloc(0)[124])"
   ]
  },
  {
   "cell_type": "code",
   "execution_count": null,
   "id": "cecda9a3-aac9-4d48-9f9d-23e22332c13c",
   "metadata": {},
   "outputs": [],
   "source": [
    "# df.info()"
   ]
  },
  {
   "cell_type": "code",
   "execution_count": null,
   "id": "3307b447-b3da-414d-868c-2b174a19807a",
   "metadata": {},
   "outputs": [],
   "source": [
    "train_df = df[df['split'] == 'train']\n",
    "test_df = df[df['split'] == 'test']\n",
    "\n",
    "print(train_df.shape)\n",
    "print(test_df.shape)"
   ]
  },
  {
   "cell_type": "code",
   "execution_count": null,
   "id": "ffc0a0de-e124-42fd-a5fe-54bb89044684",
   "metadata": {},
   "outputs": [],
   "source": []
  },
  {
   "cell_type": "code",
   "execution_count": null,
   "id": "317fae91-d31e-4a67-af4c-c533c802dfbb",
   "metadata": {},
   "outputs": [],
   "source": [
    "help(knn)"
   ]
  },
  {
   "cell_type": "code",
   "execution_count": null,
   "id": "6a92d4bd-9ebb-4ef8-9def-968479701a2a",
   "metadata": {},
   "outputs": [],
   "source": []
  },
  {
   "cell_type": "markdown",
   "id": "bc1ac391-df7e-48d0-aaea-928220e96221",
   "metadata": {},
   "source": [
    "Si un dato tiene los primeros 100 tokens 0 veces entonces no se puede clasificar."
   ]
  },
  {
   "cell_type": "code",
   "execution_count": 74,
   "id": "23caf38b-581d-4c6b-9204-f775ee3c0b42",
   "metadata": {
    "execution": {
     "iopub.execute_input": "2024-10-17T23:40:48.221940Z",
     "iopub.status.busy": "2024-10-17T23:40:48.221429Z",
     "iopub.status.idle": "2024-10-17T23:40:48.396579Z",
     "shell.execute_reply": "2024-10-17T23:40:48.393513Z",
     "shell.execute_reply.started": "2024-10-17T23:40:48.221898Z"
    }
   },
   "outputs": [
    {
     "name": "stdout",
     "output_type": "stream",
     "text": [
      "Con k: 5, exactitud obtenida: 0.7875\n"
     ]
    }
   ],
   "source": [
    "#### K = 5\n",
    "k_maximo = 5\n",
    "# Q = 921\n",
    "Q = 1000\n",
    "X_train, y_train, X_test, y_test = document_term_matrix(import_data(), Q)\n",
    "# print(X_train.shape)\n",
    "# print(y_train.shape)\n",
    "# print(X_test.shape)\n",
    "# print(y_test.shape)\n",
    "\n",
    "# print(X_train[0].shape)\n",
    "# print(np.linalg.norm(X_train, axis=1).min())\n",
    "# print(np.diag(1 / np.linalg.norm(X_train, axis=1)))\n",
    "\n",
    "\n",
    "X_train = normalize_data(X_train)\n",
    "\n",
    "X_test = normalize_data(X_test)\n",
    "vecinos = calcular_vecinos(X_train, X_test)\n",
    "\n",
    "promedio_k_fijo = medir_exactitud(vecinos, y_train, y_test, K)\n",
    "\n",
    "# print(\"Resultados Experimento 2:\")\n",
    "print(\"Con k: \", K, \", exactitud obtenida: \", promedio_k_fijo, sep = '')"
   ]
  },
  {
   "cell_type": "code",
   "execution_count": 75,
   "id": "af79fe16-58f7-45ef-a5ef-647c4f81ad9c",
   "metadata": {
    "execution": {
     "iopub.execute_input": "2024-10-17T23:44:53.464066Z",
     "iopub.status.busy": "2024-10-17T23:44:53.463303Z",
     "iopub.status.idle": "2024-10-17T23:44:53.669896Z",
     "shell.execute_reply": "2024-10-17T23:44:53.668926Z",
     "shell.execute_reply.started": "2024-10-17T23:44:53.464025Z"
    }
   },
   "outputs": [
    {
     "name": "stdout",
     "output_type": "stream",
     "text": [
      "(240, 9581)\n",
      "(80, 9581)\n",
      "(240, 1)\n",
      "(80, 1)\n",
      "(240, 9581)\n",
      "(80, 9581)\n",
      "(240, 1)\n",
      "(80, 1)\n",
      "(240, 9581)\n",
      "(80, 9581)\n",
      "(240, 1)\n",
      "(80, 1)\n",
      "(240, 9581)\n",
      "(80, 9581)\n",
      "(240, 1)\n",
      "(80, 1)\n"
     ]
    }
   ],
   "source": [
    "k_maximo = 5\n",
    "Q = 9581\n",
    "X_train, y_train, X_test, y_test = document_term_matrix(import_data(), Q)\n",
    "\n",
    "for i in range(4):\n",
    "    X_newtrain, X_dev, y_newtrain, y_dev = separate_dev_data(X_train, y_train, i)\n",
    "    print(X_newtrain.shape)\n",
    "    print(X_dev.shape)\n",
    "    print(y_newtrain.shape)\n",
    "    print(y_dev.shape)"
   ]
  }
 ],
 "metadata": {
  "kernelspec": {
   "display_name": "envtp2",
   "language": "python",
   "name": "envtp2"
  },
  "language_info": {
   "codemirror_mode": {
    "name": "ipython",
    "version": 3
   },
   "file_extension": ".py",
   "mimetype": "text/x-python",
   "name": "python",
   "nbconvert_exporter": "python",
   "pygments_lexer": "ipython3",
   "version": "3.12.7"
  }
 },
 "nbformat": 4,
 "nbformat_minor": 5
}
